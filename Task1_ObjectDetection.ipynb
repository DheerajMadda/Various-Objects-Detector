{
 "cells": [
  {
   "cell_type": "markdown",
   "id": "666cc843",
   "metadata": {},
   "source": [
    "# 1. Install and Import dependencies"
   ]
  },
  {
   "cell_type": "code",
   "execution_count": null,
   "id": "aed2140b",
   "metadata": {},
   "outputs": [],
   "source": [
    "!git clone https://github.com/ultralytics/yolov5.git"
   ]
  },
  {
   "cell_type": "code",
   "execution_count": 6,
   "id": "f7b4ced2",
   "metadata": {},
   "outputs": [
    {
     "name": "stdout",
     "output_type": "stream",
     "text": [
      "Collecting matplotlib>=3.2.2\n",
      "  Using cached matplotlib-3.3.4-cp36-cp36m-win_amd64.whl (8.5 MB)\n",
      "Requirement already satisfied: numpy>=1.18.5 in d:\\anaconda3\\envs\\tfod\\lib\\site-packages (from -r requirements.txt (line 5)) (1.19.3)"
     ]
    },
    {
     "name": "stderr",
     "output_type": "stream",
     "text": [
      "ERROR: pip's dependency resolver does not currently take into account all the packages that are installed. This behaviour is the source of the following dependency conflicts.\n",
      "object-detection 0.1 requires apache-beam, which is not installed.\n",
      "object-detection 0.1 requires avro-python3, which is not installed.\n",
      "object-detection 0.1 requires contextlib2, which is not installed.\n",
      "tf-models-official 2.4.0 requires google-api-python-client>=1.6.7, which is not installed.\n",
      "tf-models-official 2.4.0 requires google-cloud-bigquery>=0.31.0, which is not installed.\n",
      "tf-models-official 2.4.0 requires kaggle>=1.3.9, which is not installed.\n",
      "tf-models-official 2.4.0 requires oauth2client, which is not installed.\n",
      "tf-models-official 2.4.0 requires opencv-python-headless, which is not installed.\n",
      "tf-models-official 2.4.0 requires psutil>=5.4.3, which is not installed.\n",
      "tf-models-official 2.4.0 requires py-cpuinfo>=3.3.0, which is not installed.\n",
      "tf-models-official 2.4.0 requires sentencepiece, which is not installed.\n",
      "tf-models-official 2.4.0 requires seqeval, which is not installed.\n",
      "tf-models-official 2.4.0 requires tensorflow-hub>=0.6.0, which is not installed.\n",
      "tf-models-official 2.4.0 requires tensorflow-model-optimization>=0.4.1, which is not installed.\n",
      "WARNING: You are using pip version 21.0.1; however, version 21.1.3 is available.\n",
      "You should consider upgrading via the 'd:\\anaconda3\\envs\\tfod\\python.exe -m pip install --upgrade pip' command.\n"
     ]
    },
    {
     "name": "stdout",
     "output_type": "stream",
     "text": [
      "\n",
      "Requirement already satisfied: opencv-python>=4.1.2 in d:\\anaconda3\\envs\\tfod\\lib\\site-packages (from -r requirements.txt (line 6)) (4.5.1.48)\n",
      "Requirement already satisfied: Pillow in d:\\anaconda3\\envs\\tfod\\lib\\site-packages (from -r requirements.txt (line 7)) (8.2.0)\n",
      "Requirement already satisfied: PyYAML>=5.3.1 in d:\\anaconda3\\envs\\tfod\\lib\\site-packages (from -r requirements.txt (line 8)) (5.4.1)\n",
      "Requirement already satisfied: scipy>=1.4.1 in d:\\anaconda3\\envs\\tfod\\lib\\site-packages (from -r requirements.txt (line 9)) (1.5.4)\n",
      "Requirement already satisfied: torch>=1.7.0 in d:\\anaconda3\\envs\\tfod\\lib\\site-packages (from -r requirements.txt (line 10)) (1.8.1+cu111)\n",
      "Requirement already satisfied: torchvision>=0.8.1 in d:\\anaconda3\\envs\\tfod\\lib\\site-packages (from -r requirements.txt (line 11)) (0.9.1+cu111)\n",
      "Requirement already satisfied: tqdm>=4.41.0 in d:\\anaconda3\\envs\\tfod\\lib\\site-packages (from -r requirements.txt (line 12)) (4.60.0)\n",
      "Requirement already satisfied: tensorboard>=2.4.1 in d:\\anaconda3\\envs\\tfod\\lib\\site-packages (from -r requirements.txt (line 15)) (2.5.0)\n",
      "Requirement already satisfied: seaborn>=0.11.0 in d:\\anaconda3\\envs\\tfod\\lib\\site-packages (from -r requirements.txt (line 19)) (0.11.1)\n",
      "Requirement already satisfied: pandas in d:\\anaconda3\\envs\\tfod\\lib\\site-packages (from -r requirements.txt (line 20)) (1.1.5)\n",
      "Collecting thop\n",
      "  Downloading thop-0.0.31.post2005241907-py3-none-any.whl (8.7 kB)\n",
      "Requirement already satisfied: pyparsing!=2.0.4,!=2.1.2,!=2.1.6,>=2.0.3 in d:\\anaconda3\\envs\\tfod\\lib\\site-packages (from matplotlib>=3.2.2->-r requirements.txt (line 4)) (2.4.7)\n",
      "Requirement already satisfied: cycler>=0.10 in d:\\anaconda3\\envs\\tfod\\lib\\site-packages (from matplotlib>=3.2.2->-r requirements.txt (line 4)) (0.10.0)\n",
      "Requirement already satisfied: python-dateutil>=2.1 in d:\\anaconda3\\envs\\tfod\\lib\\site-packages (from matplotlib>=3.2.2->-r requirements.txt (line 4)) (2.8.1)\n",
      "Requirement already satisfied: kiwisolver>=1.0.1 in d:\\anaconda3\\envs\\tfod\\lib\\site-packages (from matplotlib>=3.2.2->-r requirements.txt (line 4)) (1.3.1)\n",
      "Requirement already satisfied: pytz>=2017.2 in d:\\anaconda3\\envs\\tfod\\lib\\site-packages (from pandas->-r requirements.txt (line 20)) (2021.1)\n",
      "Requirement already satisfied: markdown>=2.6.8 in d:\\anaconda3\\envs\\tfod\\lib\\site-packages (from tensorboard>=2.4.1->-r requirements.txt (line 15)) (3.3.4)\n",
      "Requirement already satisfied: google-auth<2,>=1.6.3 in d:\\anaconda3\\envs\\tfod\\lib\\site-packages (from tensorboard>=2.4.1->-r requirements.txt (line 15)) (1.30.0)\n",
      "Requirement already satisfied: tensorboard-plugin-wit>=1.6.0 in d:\\anaconda3\\envs\\tfod\\lib\\site-packages (from tensorboard>=2.4.1->-r requirements.txt (line 15)) (1.8.0)\n",
      "Requirement already satisfied: grpcio>=1.24.3 in d:\\anaconda3\\envs\\tfod\\lib\\site-packages (from tensorboard>=2.4.1->-r requirements.txt (line 15)) (1.32.0)\n",
      "Requirement already satisfied: requests<3,>=2.21.0 in d:\\anaconda3\\envs\\tfod\\lib\\site-packages (from tensorboard>=2.4.1->-r requirements.txt (line 15)) (2.25.1)\n",
      "Requirement already satisfied: wheel>=0.26 in d:\\anaconda3\\envs\\tfod\\lib\\site-packages (from tensorboard>=2.4.1->-r requirements.txt (line 15)) (0.36.2)\n",
      "Requirement already satisfied: setuptools>=41.0.0 in d:\\anaconda3\\envs\\tfod\\lib\\site-packages (from tensorboard>=2.4.1->-r requirements.txt (line 15)) (52.0.0.post20210125)\n",
      "Requirement already satisfied: protobuf>=3.6.0 in d:\\anaconda3\\envs\\tfod\\lib\\site-packages (from tensorboard>=2.4.1->-r requirements.txt (line 15)) (3.15.8)\n",
      "Requirement already satisfied: google-auth-oauthlib<0.5,>=0.4.1 in d:\\anaconda3\\envs\\tfod\\lib\\site-packages (from tensorboard>=2.4.1->-r requirements.txt (line 15)) (0.4.4)\n",
      "Requirement already satisfied: werkzeug>=0.11.15 in d:\\anaconda3\\envs\\tfod\\lib\\site-packages (from tensorboard>=2.4.1->-r requirements.txt (line 15)) (2.0.1)\n",
      "Requirement already satisfied: absl-py>=0.4 in d:\\anaconda3\\envs\\tfod\\lib\\site-packages (from tensorboard>=2.4.1->-r requirements.txt (line 15)) (0.12.0)\n",
      "Requirement already satisfied: tensorboard-data-server<0.7.0,>=0.6.0 in d:\\anaconda3\\envs\\tfod\\lib\\site-packages (from tensorboard>=2.4.1->-r requirements.txt (line 15)) (0.6.0)\n",
      "Requirement already satisfied: dataclasses in d:\\anaconda3\\envs\\tfod\\lib\\site-packages (from torch>=1.7.0->-r requirements.txt (line 10)) (0.8)\n",
      "Requirement already satisfied: typing-extensions in d:\\anaconda3\\envs\\tfod\\lib\\site-packages (from torch>=1.7.0->-r requirements.txt (line 10)) (3.7.4.3)\n",
      "Requirement already satisfied: six in d:\\anaconda3\\envs\\tfod\\lib\\site-packages (from absl-py>=0.4->tensorboard>=2.4.1->-r requirements.txt (line 15)) (1.15.0)\n",
      "Requirement already satisfied: cachetools<5.0,>=2.0.0 in d:\\anaconda3\\envs\\tfod\\lib\\site-packages (from google-auth<2,>=1.6.3->tensorboard>=2.4.1->-r requirements.txt (line 15)) (4.2.2)\n",
      "Requirement already satisfied: rsa<5,>=3.1.4 in d:\\anaconda3\\envs\\tfod\\lib\\site-packages (from google-auth<2,>=1.6.3->tensorboard>=2.4.1->-r requirements.txt (line 15)) (4.7.2)\n",
      "Requirement already satisfied: pyasn1-modules>=0.2.1 in d:\\anaconda3\\envs\\tfod\\lib\\site-packages (from google-auth<2,>=1.6.3->tensorboard>=2.4.1->-r requirements.txt (line 15)) (0.2.8)\n",
      "Requirement already satisfied: requests-oauthlib>=0.7.0 in d:\\anaconda3\\envs\\tfod\\lib\\site-packages (from google-auth-oauthlib<0.5,>=0.4.1->tensorboard>=2.4.1->-r requirements.txt (line 15)) (1.3.0)\n",
      "Requirement already satisfied: importlib-metadata in d:\\anaconda3\\envs\\tfod\\lib\\site-packages (from markdown>=2.6.8->tensorboard>=2.4.1->-r requirements.txt (line 15)) (4.0.1)\n",
      "Requirement already satisfied: pyasn1<0.5.0,>=0.4.6 in d:\\anaconda3\\envs\\tfod\\lib\\site-packages (from pyasn1-modules>=0.2.1->google-auth<2,>=1.6.3->tensorboard>=2.4.1->-r requirements.txt (line 15)) (0.4.8)\n",
      "Requirement already satisfied: idna<3,>=2.5 in d:\\anaconda3\\envs\\tfod\\lib\\site-packages (from requests<3,>=2.21.0->tensorboard>=2.4.1->-r requirements.txt (line 15)) (2.6)\n",
      "Requirement already satisfied: urllib3<1.27,>=1.21.1 in d:\\anaconda3\\envs\\tfod\\lib\\site-packages (from requests<3,>=2.21.0->tensorboard>=2.4.1->-r requirements.txt (line 15)) (1.22)\n",
      "Requirement already satisfied: chardet<5,>=3.0.2 in d:\\anaconda3\\envs\\tfod\\lib\\site-packages (from requests<3,>=2.21.0->tensorboard>=2.4.1->-r requirements.txt (line 15)) (3.0.4)\n",
      "Requirement already satisfied: certifi>=2017.4.17 in d:\\anaconda3\\envs\\tfod\\lib\\site-packages (from requests<3,>=2.21.0->tensorboard>=2.4.1->-r requirements.txt (line 15)) (2020.12.5)\n",
      "Requirement already satisfied: oauthlib>=3.0.0 in d:\\anaconda3\\envs\\tfod\\lib\\site-packages (from requests-oauthlib>=0.7.0->google-auth-oauthlib<0.5,>=0.4.1->tensorboard>=2.4.1->-r requirements.txt (line 15)) (3.1.0)\n",
      "Requirement already satisfied: zipp>=0.5 in d:\\anaconda3\\envs\\tfod\\lib\\site-packages (from importlib-metadata->markdown>=2.6.8->tensorboard>=2.4.1->-r requirements.txt (line 15)) (3.4.1)\n",
      "Installing collected packages: matplotlib, thop\n",
      "  Attempting uninstall: matplotlib\n",
      "    Found existing installation: matplotlib 3.2.0\n",
      "    Uninstalling matplotlib-3.2.0:\n",
      "      Successfully uninstalled matplotlib-3.2.0\n",
      "Successfully installed matplotlib-3.3.4 thop-0.0.31.post2005241907\n"
     ]
    }
   ],
   "source": [
    "!cd yolov5 & pip install -r requirements.txt"
   ]
  },
  {
   "cell_type": "code",
   "execution_count": 1,
   "id": "3ffbc9cb",
   "metadata": {},
   "outputs": [],
   "source": [
    "import os\n",
    "import torch\n",
    "import numpy as np\n",
    "import cv2"
   ]
  },
  {
   "cell_type": "markdown",
   "id": "ed250b64",
   "metadata": {},
   "source": [
    "# 2. Load Model"
   ]
  },
  {
   "cell_type": "code",
   "execution_count": 2,
   "id": "b028b984",
   "metadata": {},
   "outputs": [
    {
     "name": "stderr",
     "output_type": "stream",
     "text": [
      "Using cache found in C:\\Users\\dheer/.cache\\torch\\hub\\ultralytics_yolov5_master\n"
     ]
    },
    {
     "name": "stdout",
     "output_type": "stream",
     "text": [
      "Downloading https://ultralytics.com/assets/Arial.ttf to C:\\Users\\dheer\\AppData\\Roaming\\Ultralytics\\Arial.ttf...\n"
     ]
    },
    {
     "name": "stderr",
     "output_type": "stream",
     "text": [
      "YOLOv5  2022-1-10 torch 1.8.1+cu111 CUDA:0 (GeForce GTX 1050, 4096MiB)\n",
      "\n"
     ]
    },
    {
     "name": "stdout",
     "output_type": "stream",
     "text": [
      "Downloading https://github.com/ultralytics/yolov5/releases/download/v6.0/yolov5s.pt to yolov5s.pt...\n"
     ]
    },
    {
     "data": {
      "application/vnd.jupyter.widget-view+json": {
       "model_id": "b18d5c7592514331a74e40d92d3eaa58",
       "version_major": 2,
       "version_minor": 0
      },
      "text/plain": [
       "  0%|          | 0.00/14.0M [00:00<?, ?B/s]"
      ]
     },
     "metadata": {},
     "output_type": "display_data"
    },
    {
     "name": "stdout",
     "output_type": "stream",
     "text": [
      "\n"
     ]
    },
    {
     "name": "stderr",
     "output_type": "stream",
     "text": [
      "Fusing layers... \n",
      "Model Summary: 213 layers, 7225885 parameters, 0 gradients\n",
      "Adding AutoShape... \n"
     ]
    }
   ],
   "source": [
    "model = torch.hub.load('ultralytics/yolov5', 'yolov5s')"
   ]
  },
  {
   "cell_type": "code",
   "execution_count": 2,
   "id": "5ef807d8",
   "metadata": {},
   "outputs": [],
   "source": [
    "# model = torch.hub.load('ultralytics/yolov5', 'custom', path='./yolov5s.pt')"
   ]
  },
  {
   "cell_type": "markdown",
   "id": "05e187ca",
   "metadata": {},
   "source": [
    "# 3. Make detections"
   ]
  },
  {
   "cell_type": "code",
   "execution_count": 6,
   "id": "cd47665a",
   "metadata": {},
   "outputs": [],
   "source": [
    "source = os.path.join(os.getcwd(), 'video_preview_h264 (1).mp4')\n",
    "output = os.path.join(os.getcwd(), 'task1_output.mp4')"
   ]
  },
  {
   "cell_type": "code",
   "execution_count": 7,
   "id": "a65a3f3b",
   "metadata": {},
   "outputs": [],
   "source": [
    "cap = cv2.VideoCapture(source)\n",
    "\n",
    "fps = int(cap.get(cv2.CAP_PROP_FPS))\n",
    "width = int(cap.get(cv2.CAP_PROP_FRAME_WIDTH))\n",
    "height = int(cap.get(cv2.CAP_PROP_FRAME_HEIGHT))\n",
    "codec = cv2.VideoWriter_fourcc(*'XVID')\n",
    "out = cv2.VideoWriter(output, codec, fps, (width, height))\n",
    "    \n",
    "while cap.isOpened():\n",
    "    ret, frame = cap.read()\n",
    "    if not ret:\n",
    "        break\n",
    "    results = model(frame)\n",
    "    img = np.squeeze(results.render())\n",
    "    \n",
    "    cv2.imshow(\"Window\", img)\n",
    "    out.write(img)\n",
    "    if cv2.waitKey(10) & 0xFF == ord('q'):\n",
    "        break\n",
    "    \n",
    "cap.release()\n",
    "cv2.destroyAllWindows()\n",
    "out.release()"
   ]
  }
 ],
 "metadata": {
  "kernelspec": {
   "display_name": "Python 3",
   "language": "python",
   "name": "python3"
  },
  "language_info": {
   "codemirror_mode": {
    "name": "ipython",
    "version": 3
   },
   "file_extension": ".py",
   "mimetype": "text/x-python",
   "name": "python",
   "nbconvert_exporter": "python",
   "pygments_lexer": "ipython3",
   "version": "3.6.13"
  }
 },
 "nbformat": 4,
 "nbformat_minor": 5
}
